{
 "cells": [
  {
   "cell_type": "code",
   "execution_count": 1,
   "metadata": {},
   "outputs": [
    {
     "name": "stderr",
     "output_type": "stream",
     "text": [
      "2023-10-16 22:20:45.831128: I tensorflow/tsl/cuda/cudart_stub.cc:28] Could not find cuda drivers on your machine, GPU will not be used.\n",
      "2023-10-16 22:20:45.859922: E tensorflow/compiler/xla/stream_executor/cuda/cuda_dnn.cc:9342] Unable to register cuDNN factory: Attempting to register factory for plugin cuDNN when one has already been registered\n",
      "2023-10-16 22:20:45.859949: E tensorflow/compiler/xla/stream_executor/cuda/cuda_fft.cc:609] Unable to register cuFFT factory: Attempting to register factory for plugin cuFFT when one has already been registered\n",
      "2023-10-16 22:20:45.859977: E tensorflow/compiler/xla/stream_executor/cuda/cuda_blas.cc:1518] Unable to register cuBLAS factory: Attempting to register factory for plugin cuBLAS when one has already been registered\n",
      "2023-10-16 22:20:45.865652: I tensorflow/tsl/cuda/cudart_stub.cc:28] Could not find cuda drivers on your machine, GPU will not be used.\n",
      "2023-10-16 22:20:45.866125: I tensorflow/core/platform/cpu_feature_guard.cc:182] This TensorFlow binary is optimized to use available CPU instructions in performance-critical operations.\n",
      "To enable the following instructions: AVX2 FMA, in other operations, rebuild TensorFlow with the appropriate compiler flags.\n",
      "2023-10-16 22:20:46.570397: W tensorflow/compiler/tf2tensorrt/utils/py_utils.cc:38] TF-TRT Warning: Could not find TensorRT\n"
     ]
    }
   ],
   "source": [
    "import tensorflow as tf\n",
    "import keras as keras\n",
    "import keras.datasets.cifar10 as cifar10\n",
    "from keras.layers import Input, MaxPool2D, Conv2D, Flatten, Dense\n",
    "from keras.layers import concatenate\n",
    "from keras import optimizers"
   ]
  },
  {
   "cell_type": "code",
   "execution_count": 2,
   "metadata": {},
   "outputs": [],
   "source": [
    "(X_train, y_train), (X_test, y_test) = cifar10.load_data()"
   ]
  },
  {
   "cell_type": "code",
   "execution_count": 3,
   "metadata": {},
   "outputs": [],
   "source": [
    "from keras import backend as K\n",
    "K.set_image_data_format(\"channels_last\")"
   ]
  },
  {
   "cell_type": "code",
   "execution_count": 4,
   "metadata": {},
   "outputs": [],
   "source": [
    "X_train = X_train.reshape(X_train.shape[0], 32, 32, 3).astype('float32')\n",
    "X_test = X_test.reshape(X_test.shape[0], 32, 32, 3).astype('float32')\n",
    "X_train = X_train/255.0\n",
    "X_test = X_test/255.0\n",
    "\n",
    "num_classes = 10\n",
    "y_train = keras.utils.to_categorical(y_train, num_classes = num_classes)\n",
    "y_test = keras.utils.to_categorical(y_test, num_classes = num_classes)"
   ]
  },
  {
   "cell_type": "code",
   "execution_count": 5,
   "metadata": {},
   "outputs": [
    {
     "name": "stderr",
     "output_type": "stream",
     "text": [
      "2023-10-16 22:20:49.002525: E tensorflow/compiler/xla/stream_executor/cuda/cuda_driver.cc:268] failed call to cuInit: CUDA_ERROR_UNKNOWN: unknown error\n",
      "2023-10-16 22:20:49.002554: I tensorflow/compiler/xla/stream_executor/cuda/cuda_diagnostics.cc:168] retrieving CUDA diagnostic information for host: gabriel-Dell-G15-5525\n",
      "2023-10-16 22:20:49.002566: I tensorflow/compiler/xla/stream_executor/cuda/cuda_diagnostics.cc:175] hostname: gabriel-Dell-G15-5525\n",
      "2023-10-16 22:20:49.002721: I tensorflow/compiler/xla/stream_executor/cuda/cuda_diagnostics.cc:199] libcuda reported version is: 535.113.1\n",
      "2023-10-16 22:20:49.002757: I tensorflow/compiler/xla/stream_executor/cuda/cuda_diagnostics.cc:203] kernel reported version is: 535.113.1\n",
      "2023-10-16 22:20:49.002767: I tensorflow/compiler/xla/stream_executor/cuda/cuda_diagnostics.cc:309] kernel version seems to match DSO: 535.113.1\n"
     ]
    }
   ],
   "source": [
    "input_img = Input(shape=(32, 32, 3))\n",
    "tower_1 = Conv2D(64, (1,1),padding=\"same\", activation=\"relu\")(input_img)\n",
    "tower_1 = Conv2D(64, (3,3), padding=\"same\", activation=\"relu\")(tower_1)\n",
    "\n",
    "\n",
    "tower_2 = Conv2D(64, (1,1),padding=\"same\", activation=\"relu\")(input_img)\n",
    "tower_2 = Conv2D(64, (5,5), padding=\"same\", activation=\"relu\")(tower_2)\n",
    "\n",
    "\n",
    "tower_3 = MaxPool2D((3,3),strides=1, padding=\"same\")(input_img)\n",
    "tower_3 = Conv2D(64, (1,1), padding=\"same\", activation=\"relu\")(tower_3)"
   ]
  },
  {
   "cell_type": "code",
   "execution_count": 6,
   "metadata": {},
   "outputs": [],
   "source": [
    "output = concatenate([tower_1, tower_2, tower_3], axis = 3)\n",
    "output = Flatten()(output)\n",
    "out = Dense(10, activation = \"softmax\")(output)"
   ]
  },
  {
   "cell_type": "code",
   "execution_count": 7,
   "metadata": {},
   "outputs": [
    {
     "name": "stdout",
     "output_type": "stream",
     "text": [
      "Model: \"model\"\n",
      "__________________________________________________________________________________________________\n",
      " Layer (type)                Output Shape                 Param #   Connected to                  \n",
      "==================================================================================================\n",
      " input_1 (InputLayer)        [(None, 32, 32, 3)]          0         []                            \n",
      "                                                                                                  \n",
      " conv2d (Conv2D)             (None, 32, 32, 64)           256       ['input_1[0][0]']             \n",
      "                                                                                                  \n",
      " conv2d_2 (Conv2D)           (None, 32, 32, 64)           256       ['input_1[0][0]']             \n",
      "                                                                                                  \n",
      " max_pooling2d (MaxPooling2  (None, 32, 32, 3)            0         ['input_1[0][0]']             \n",
      " D)                                                                                               \n",
      "                                                                                                  \n",
      " conv2d_1 (Conv2D)           (None, 32, 32, 64)           36928     ['conv2d[0][0]']              \n",
      "                                                                                                  \n",
      " conv2d_3 (Conv2D)           (None, 32, 32, 64)           102464    ['conv2d_2[0][0]']            \n",
      "                                                                                                  \n",
      " conv2d_4 (Conv2D)           (None, 32, 32, 64)           256       ['max_pooling2d[0][0]']       \n",
      "                                                                                                  \n",
      " concatenate (Concatenate)   (None, 32, 32, 192)          0         ['conv2d_1[0][0]',            \n",
      "                                                                     'conv2d_3[0][0]',            \n",
      "                                                                     'conv2d_4[0][0]']            \n",
      "                                                                                                  \n",
      " flatten (Flatten)           (None, 196608)               0         ['concatenate[0][0]']         \n",
      "                                                                                                  \n",
      " dense (Dense)               (None, 10)                   1966090   ['flatten[0][0]']             \n",
      "                                                                                                  \n",
      "==================================================================================================\n",
      "Total params: 2106250 (8.03 MB)\n",
      "Trainable params: 2106250 (8.03 MB)\n",
      "Non-trainable params: 0 (0.00 Byte)\n",
      "__________________________________________________________________________________________________\n"
     ]
    }
   ],
   "source": [
    "from keras.models import Model\n",
    "model  = Model(inputs=input_img, outputs = out)\n",
    "epochs = 5\n",
    "model.compile(loss=\"categorical_crossentropy\", optimizer=optimizers.Adam(), metrics=[tf.metrics.Precision()])\n",
    "model.summary()"
   ]
  },
  {
   "cell_type": "code",
   "execution_count": 8,
   "metadata": {},
   "outputs": [
    {
     "name": "stdout",
     "output_type": "stream",
     "text": [
      "Epoch 1/5\n"
     ]
    },
    {
     "name": "stderr",
     "output_type": "stream",
     "text": [
      "2023-10-16 22:20:49.387086: W tensorflow/tsl/framework/cpu_allocator_impl.cc:83] Allocation of 614400000 exceeds 10% of free system memory.\n"
     ]
    },
    {
     "name": "stdout",
     "output_type": "stream",
     "text": [
      "1563/1563 [==============================] - 156s 99ms/step - loss: 1.5951 - precision: 0.6605 - val_loss: 1.3479 - val_precision: 0.7113\n",
      "Epoch 2/5\n",
      "1563/1563 [==============================] - 155s 99ms/step - loss: 1.2429 - precision: 0.7270 - val_loss: 1.3162 - val_precision: 0.6867\n",
      "Epoch 3/5\n",
      "1563/1563 [==============================] - 155s 99ms/step - loss: 1.0954 - precision: 0.7551 - val_loss: 1.1887 - val_precision: 0.7076\n",
      "Epoch 4/5\n",
      "1563/1563 [==============================] - 152s 97ms/step - loss: 0.9833 - precision: 0.7788 - val_loss: 1.2226 - val_precision: 0.6932\n",
      "Epoch 5/5\n",
      "1563/1563 [==============================] - 151s 96ms/step - loss: 0.8806 - precision: 0.7957 - val_loss: 1.2091 - val_precision: 0.6970\n"
     ]
    },
    {
     "data": {
      "text/plain": [
       "<keras.src.callbacks.History at 0x7f9bcf8f6610>"
      ]
     },
     "execution_count": 8,
     "metadata": {},
     "output_type": "execute_result"
    }
   ],
   "source": [
    "model.fit(X_train, y_train, validation_data = (X_test, y_test), epochs = epochs, batch_size = 32)"
   ]
  }
 ],
 "metadata": {
  "kernelspec": {
   "display_name": "deep_learning_3.11",
   "language": "python",
   "name": "python3"
  },
  "language_info": {
   "codemirror_mode": {
    "name": "ipython",
    "version": 3
   },
   "file_extension": ".py",
   "mimetype": "text/x-python",
   "name": "python",
   "nbconvert_exporter": "python",
   "pygments_lexer": "ipython3",
   "version": "3.11.5"
  }
 },
 "nbformat": 4,
 "nbformat_minor": 2
}
