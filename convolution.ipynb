{
 "cells": [
  {
   "cell_type": "code",
   "execution_count": 1,
   "metadata": {},
   "outputs": [],
   "source": [
    "import numpy as np"
   ]
  },
  {
   "cell_type": "code",
   "execution_count": 10,
   "metadata": {},
   "outputs": [],
   "source": [
    "def conv_2d(A, kernel):\n",
    "    output = np.zeros ( [A.shape[0] - (kernel.shape[0] - 1), A.shape[1] - (kernel.shape[1] - 1)])\n",
    "    for row in range(1, A.shape[0] - 1):\n",
    "        for col in range(1, A.shape[1] - 1):\n",
    "            output[row - 1, col - 1] = np.tensordot(A[row-1:row+2, col-1:col+2], kernel)\n",
    "    return output"
   ]
  },
  {
   "cell_type": "code",
   "execution_count": 11,
   "metadata": {},
   "outputs": [
    {
     "name": "stdout",
     "output_type": "stream",
     "text": [
      "[[348. 393.]\n",
      " [528. 573.]]\n"
     ]
    }
   ],
   "source": [
    "A = np.array([[1, 2, 3, 4], [5, 6, 7, 8], [9, 10, 11, 12], [13, 14, 15, 16]])\n",
    "K = np.array([[1, 2, 3], [4, 5, 6], [7, 8, 9]])\n",
    "print(conv_2d(A, K))"
   ]
  }
 ],
 "metadata": {
  "kernelspec": {
   "display_name": "deep_learning",
   "language": "python",
   "name": "python3"
  },
  "language_info": {
   "codemirror_mode": {
    "name": "ipython",
    "version": 3
   },
   "file_extension": ".py",
   "mimetype": "text/x-python",
   "name": "python",
   "nbconvert_exporter": "python",
   "pygments_lexer": "ipython3",
   "version": "3.9.18"
  }
 },
 "nbformat": 4,
 "nbformat_minor": 2
}
