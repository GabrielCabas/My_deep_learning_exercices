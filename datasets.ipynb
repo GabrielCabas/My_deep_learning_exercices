{
 "cells": [
  {
   "cell_type": "code",
   "execution_count": 1,
   "metadata": {},
   "outputs": [
    {
     "name": "stderr",
     "output_type": "stream",
     "text": [
      "2023-10-15 22:38:58.352638: E tensorflow/compiler/xla/stream_executor/cuda/cuda_dnn.cc:9342] Unable to register cuDNN factory: Attempting to register factory for plugin cuDNN when one has already been registered\n",
      "2023-10-15 22:38:58.352671: E tensorflow/compiler/xla/stream_executor/cuda/cuda_fft.cc:609] Unable to register cuFFT factory: Attempting to register factory for plugin cuFFT when one has already been registered\n",
      "2023-10-15 22:38:58.352703: E tensorflow/compiler/xla/stream_executor/cuda/cuda_blas.cc:1518] Unable to register cuBLAS factory: Attempting to register factory for plugin cuBLAS when one has already been registered\n",
      "2023-10-15 22:38:58.359214: I tensorflow/core/platform/cpu_feature_guard.cc:182] This TensorFlow binary is optimized to use available CPU instructions in performance-critical operations.\n",
      "To enable the following instructions: AVX2 FMA, in other operations, rebuild TensorFlow with the appropriate compiler flags.\n"
     ]
    }
   ],
   "source": [
    "import tensorflow as tf\n",
    "from tensorflow import keras\n",
    "import os"
   ]
  },
  {
   "cell_type": "code",
   "execution_count": 2,
   "metadata": {},
   "outputs": [
    {
     "name": "stderr",
     "output_type": "stream",
     "text": [
      "2023-10-15 22:39:23.812188: I tensorflow/compiler/xla/stream_executor/cuda/cuda_gpu_executor.cc:894] successful NUMA node read from SysFS had negative value (-1), but there must be at least one NUMA node, so returning NUMA node zero. See more at https://github.com/torvalds/linux/blob/v6.0/Documentation/ABI/testing/sysfs-bus-pci#L344-L355\n",
      "2023-10-15 22:39:23.816771: I tensorflow/compiler/xla/stream_executor/cuda/cuda_gpu_executor.cc:894] successful NUMA node read from SysFS had negative value (-1), but there must be at least one NUMA node, so returning NUMA node zero. See more at https://github.com/torvalds/linux/blob/v6.0/Documentation/ABI/testing/sysfs-bus-pci#L344-L355\n",
      "2023-10-15 22:39:23.816996: I tensorflow/compiler/xla/stream_executor/cuda/cuda_gpu_executor.cc:894] successful NUMA node read from SysFS had negative value (-1), but there must be at least one NUMA node, so returning NUMA node zero. See more at https://github.com/torvalds/linux/blob/v6.0/Documentation/ABI/testing/sysfs-bus-pci#L344-L355\n",
      "2023-10-15 22:39:23.819241: I tensorflow/compiler/xla/stream_executor/cuda/cuda_gpu_executor.cc:894] successful NUMA node read from SysFS had negative value (-1), but there must be at least one NUMA node, so returning NUMA node zero. See more at https://github.com/torvalds/linux/blob/v6.0/Documentation/ABI/testing/sysfs-bus-pci#L344-L355\n",
      "2023-10-15 22:39:23.819446: I tensorflow/compiler/xla/stream_executor/cuda/cuda_gpu_executor.cc:894] successful NUMA node read from SysFS had negative value (-1), but there must be at least one NUMA node, so returning NUMA node zero. See more at https://github.com/torvalds/linux/blob/v6.0/Documentation/ABI/testing/sysfs-bus-pci#L344-L355\n",
      "2023-10-15 22:39:23.819598: I tensorflow/compiler/xla/stream_executor/cuda/cuda_gpu_executor.cc:894] successful NUMA node read from SysFS had negative value (-1), but there must be at least one NUMA node, so returning NUMA node zero. See more at https://github.com/torvalds/linux/blob/v6.0/Documentation/ABI/testing/sysfs-bus-pci#L344-L355\n",
      "2023-10-15 22:39:23.870445: I tensorflow/compiler/xla/stream_executor/cuda/cuda_gpu_executor.cc:894] successful NUMA node read from SysFS had negative value (-1), but there must be at least one NUMA node, so returning NUMA node zero. See more at https://github.com/torvalds/linux/blob/v6.0/Documentation/ABI/testing/sysfs-bus-pci#L344-L355\n",
      "2023-10-15 22:39:23.870637: I tensorflow/compiler/xla/stream_executor/cuda/cuda_gpu_executor.cc:894] successful NUMA node read from SysFS had negative value (-1), but there must be at least one NUMA node, so returning NUMA node zero. See more at https://github.com/torvalds/linux/blob/v6.0/Documentation/ABI/testing/sysfs-bus-pci#L344-L355\n",
      "2023-10-15 22:39:23.870803: I tensorflow/compiler/xla/stream_executor/cuda/cuda_gpu_executor.cc:894] successful NUMA node read from SysFS had negative value (-1), but there must be at least one NUMA node, so returning NUMA node zero. See more at https://github.com/torvalds/linux/blob/v6.0/Documentation/ABI/testing/sysfs-bus-pci#L344-L355\n",
      "2023-10-15 22:39:23.870950: I tensorflow/core/common_runtime/gpu/gpu_device.cc:1886] Created device /job:localhost/replica:0/task:0/device:GPU:0 with 4279 MB memory:  -> device: 0, name: NVIDIA GeForce RTX 3060 Laptop GPU, pci bus id: 0000:01:00.0, compute capability: 8.6\n"
     ]
    }
   ],
   "source": [
    "inp = tf.compat.v1.random_uniform([10, 10])"
   ]
  },
  {
   "cell_type": "code",
   "execution_count": 5,
   "metadata": {},
   "outputs": [
    {
     "data": {
      "text/plain": [
       "<_TensorSliceDataset element_spec=TensorSpec(shape=(10,), dtype=tf.float32, name=None)>"
      ]
     },
     "execution_count": 5,
     "metadata": {},
     "output_type": "execute_result"
    }
   ],
   "source": [
    "dataset = tf.data.Dataset.from_tensor_slices(inp)\n",
    "dataset"
   ]
  },
  {
   "cell_type": "code",
   "execution_count": 6,
   "metadata": {},
   "outputs": [],
   "source": [
    "dataset2 = dataset.map(lambda x: x*2)"
   ]
  },
  {
   "cell_type": "code",
   "execution_count": 14,
   "metadata": {},
   "outputs": [
    {
     "name": "stdout",
     "output_type": "stream",
     "text": [
      "tf.Tensor(\n",
      "[0.42997766 0.521546   0.11739182 0.8192972  0.6733048  0.25769866\n",
      " 0.75546503 0.95243466 0.5708543  0.55160093], shape=(10,), dtype=float32)\n",
      "tf.Tensor(\n",
      "[0.8599553  1.043092   0.23478365 1.6385944  1.3466096  0.5153973\n",
      " 1.5109301  1.9048693  1.1417086  1.1032019 ], shape=(10,), dtype=float32)\n"
     ]
    }
   ],
   "source": [
    "elem = iter(dataset)\n",
    "print(next(elem))\n",
    "elem = iter(dataset2)\n",
    "print(next(elem))"
   ]
  },
  {
   "cell_type": "code",
   "execution_count": 18,
   "metadata": {},
   "outputs": [
    {
     "name": "stdout",
     "output_type": "stream",
     "text": [
      "tf.Tensor(\n",
      "[0.42997766 0.521546   0.11739182 0.8192972  0.6733048  0.25769866\n",
      " 0.75546503 0.95243466 0.5708543  0.55160093], shape=(10,), dtype=float32)\n",
      "tf.Tensor(\n",
      "[0.04748893 0.35692453 0.44591033 0.95246017 0.59599984 0.36678326\n",
      " 0.8886422  0.5359055  0.23562777 0.08628309], shape=(10,), dtype=float32)\n",
      "tf.Tensor(\n",
      "[0.2496171  0.2097112  0.41755533 0.72290075 0.38581562 0.536428\n",
      " 0.28383648 0.59830546 0.26242507 0.4064231 ], shape=(10,), dtype=float32)\n",
      "tf.Tensor(\n",
      "[0.66420674 0.03706729 0.40847695 0.9584966  0.04140508 0.67844796\n",
      " 0.2926284  0.12962604 0.6726656  0.9211428 ], shape=(10,), dtype=float32)\n",
      "tf.Tensor(\n",
      "[0.72699714 0.53565896 0.95600903 0.32033825 0.8178257  0.74576056\n",
      " 0.45146334 0.836607   0.43218994 0.3183937 ], shape=(10,), dtype=float32)\n",
      "tf.Tensor(\n",
      "[0.93705    0.2890662  0.41709352 0.60518813 0.73896694 0.45889246\n",
      " 0.5274403  0.638026   0.19753313 0.29199862], shape=(10,), dtype=float32)\n",
      "tf.Tensor(\n",
      "[0.66668224 0.00241232 0.14148545 0.23807001 0.3509729  0.87734187\n",
      " 0.44126725 0.48597252 0.63671756 0.04163694], shape=(10,), dtype=float32)\n",
      "tf.Tensor(\n",
      "[0.0513593  0.3605702  0.53414726 0.88537717 0.74977744 0.6608155\n",
      " 0.6246909  0.04191065 0.93799853 0.7306274 ], shape=(10,), dtype=float32)\n",
      "tf.Tensor(\n",
      "[0.44333053 0.35560548 0.9969754  0.01156461 0.76790166 0.8815863\n",
      " 0.16313589 0.6182457  0.49510384 0.64081836], shape=(10,), dtype=float32)\n",
      "tf.Tensor(\n",
      "[0.41085863 0.55582464 0.87687695 0.9334686  0.47199786 0.24634123\n",
      " 0.8871554  0.45097995 0.41546416 0.65315974], shape=(10,), dtype=float32)\n"
     ]
    }
   ],
   "source": [
    "for elem in iter(dataset):\n",
    "    print(elem)"
   ]
  },
  {
   "cell_type": "code",
   "execution_count": 21,
   "metadata": {},
   "outputs": [
    {
     "name": "stdout",
     "output_type": "stream",
     "text": [
      "tf.Tensor(\n",
      "[[0.42997766 0.521546   0.11739182 0.8192972  0.6733048  0.25769866\n",
      "  0.75546503 0.95243466 0.5708543  0.55160093]\n",
      " [0.04748893 0.35692453 0.44591033 0.95246017 0.59599984 0.36678326\n",
      "  0.8886422  0.5359055  0.23562777 0.08628309]], shape=(2, 10), dtype=float32)\n",
      "tf.Tensor(\n",
      "[[0.2496171  0.2097112  0.41755533 0.72290075 0.38581562 0.536428\n",
      "  0.28383648 0.59830546 0.26242507 0.4064231 ]\n",
      " [0.66420674 0.03706729 0.40847695 0.9584966  0.04140508 0.67844796\n",
      "  0.2926284  0.12962604 0.6726656  0.9211428 ]], shape=(2, 10), dtype=float32)\n",
      "tf.Tensor(\n",
      "[[0.72699714 0.53565896 0.95600903 0.32033825 0.8178257  0.74576056\n",
      "  0.45146334 0.836607   0.43218994 0.3183937 ]\n",
      " [0.93705    0.2890662  0.41709352 0.60518813 0.73896694 0.45889246\n",
      "  0.5274403  0.638026   0.19753313 0.29199862]], shape=(2, 10), dtype=float32)\n",
      "tf.Tensor(\n",
      "[[0.66668224 0.00241232 0.14148545 0.23807001 0.3509729  0.87734187\n",
      "  0.44126725 0.48597252 0.63671756 0.04163694]\n",
      " [0.0513593  0.3605702  0.53414726 0.88537717 0.74977744 0.6608155\n",
      "  0.6246909  0.04191065 0.93799853 0.7306274 ]], shape=(2, 10), dtype=float32)\n",
      "tf.Tensor(\n",
      "[[0.44333053 0.35560548 0.9969754  0.01156461 0.76790166 0.8815863\n",
      "  0.16313589 0.6182457  0.49510384 0.64081836]\n",
      " [0.41085863 0.55582464 0.87687695 0.9334686  0.47199786 0.24634123\n",
      "  0.8871554  0.45097995 0.41546416 0.65315974]], shape=(2, 10), dtype=float32)\n"
     ]
    }
   ],
   "source": [
    "batched_dataset = dataset.batch(2)\n",
    "for elem in batched_dataset:\n",
    "    print(elem)"
   ]
  },
  {
   "cell_type": "markdown",
   "metadata": {},
   "source": [
    "## MNIST"
   ]
  },
  {
   "cell_type": "code",
   "execution_count": 22,
   "metadata": {},
   "outputs": [],
   "source": [
    "num_classes = 10\n",
    "mnist = tf.keras.datasets.mnist\n",
    "(x_train, y_train), (x_test, y_test) = mnist.load_data()\n",
    "image_vector_size = 28*28\n",
    "x_train = x_train.reshape(x_train.shape[0], image_vector_size)\n",
    "x_test = x_test.reshape(x_test.shape[0], image_vector_size)\n",
    "y_train = keras.utils.to_categorical(y_train, num_classes)\n",
    "y_test = keras.utils.to_categorical(y_test, num_classes)"
   ]
  },
  {
   "cell_type": "code",
   "execution_count": 24,
   "metadata": {},
   "outputs": [
    {
     "data": {
      "text/plain": [
       "<_TensorSliceDataset element_spec=(TensorSpec(shape=(784,), dtype=tf.uint8, name=None), TensorSpec(shape=(10,), dtype=tf.float32, name=None))>"
      ]
     },
     "execution_count": 24,
     "metadata": {},
     "output_type": "execute_result"
    }
   ],
   "source": [
    "mnist_ds_train = tf.data.Dataset.from_tensor_slices((x_train, y_train))\n",
    "mnist_ds_train"
   ]
  },
  {
   "cell_type": "code",
   "execution_count": null,
   "metadata": {},
   "outputs": [],
   "source": [
    "x = keras.layers.Dense(128, activation = 'relu')(img)\n",
    "x = keras.layers.Dense(128, activation = \"relu\")(x)\n",
    "x = keras.layers.Dense(10, activation = \"softmax\")(x)"
   ]
  }
 ],
 "metadata": {
  "kernelspec": {
   "display_name": "deep_learning",
   "language": "python",
   "name": "python3"
  },
  "language_info": {
   "codemirror_mode": {
    "name": "ipython",
    "version": 3
   },
   "file_extension": ".py",
   "mimetype": "text/x-python",
   "name": "python",
   "nbconvert_exporter": "python",
   "pygments_lexer": "ipython3",
   "version": "3.9.18"
  }
 },
 "nbformat": 4,
 "nbformat_minor": 2
}
